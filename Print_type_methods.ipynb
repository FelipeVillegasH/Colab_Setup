{
  "nbformat": 4,
  "nbformat_minor": 0,
  "metadata": {
    "colab": {
      "name": "Untitled1.ipynb",
      "provenance": [],
      "collapsed_sections": [],
      "toc_visible": true,
      "authorship_tag": "ABX9TyPMdmHp1g2H9OZYmvcVPlVY",
      "include_colab_link": true
    },
    "kernelspec": {
      "name": "python3",
      "display_name": "Python 3"
    },
    "language_info": {
      "name": "python"
    }
  },
  "cells": [
    {
      "cell_type": "markdown",
      "metadata": {
        "id": "view-in-github",
        "colab_type": "text"
      },
      "source": [
        "<a href=\"https://colab.research.google.com/github/FelipeVillegasH/Colab_Setup/blob/main/Print_type_methods.ipynb\" target=\"_parent\"><img src=\"https://colab.research.google.com/assets/colab-badge.svg\" alt=\"Open In Colab\"/></a>"
      ]
    },
    {
      "cell_type": "markdown",
      "source": [
        "# Coding Dojo"
      ],
      "metadata": {
        "id": "OokE_FbFgnNv"
      }
    },
    {
      "cell_type": "markdown",
      "source": [
        "FELIPE VILLEGAS "
      ],
      "metadata": {
        "id": "5tqAcEoCeq4U"
      }
    },
    {
      "cell_type": "code",
      "source": [
        "1+1"
      ],
      "metadata": {
        "colab": {
          "base_uri": "https://localhost:8080/"
        },
        "id": "RESXzY0Ue2PL",
        "outputId": "f552cc9a-08f3-4979-d29f-4bc07c14aab7"
      },
      "execution_count": 5,
      "outputs": [
        {
          "output_type": "execute_result",
          "data": {
            "text/plain": [
              "2"
            ]
          },
          "metadata": {},
          "execution_count": 5
        }
      ]
    },
    {
      "cell_type": "markdown",
      "source": [
        "Comillas triples permiten hacer strings de varias lineas"
      ],
      "metadata": {
        "id": "Cb81HO2Bms6d"
      }
    },
    {
      "cell_type": "code",
      "source": [
        "print(\"\"\"hello world\n",
        "im Felipe\n",
        "and i like bikes\"\"\")\n",
        "#print(\"and i am \n",
        "#25 years old\")\n",
        "# este ultimo se escribe como error solo las comillas triples permiten varias lineas de texto "
      ],
      "metadata": {
        "colab": {
          "base_uri": "https://localhost:8080/"
        },
        "id": "RfsfCcAMk6jX",
        "outputId": "f8d06000-8c69-46da-f74d-e02d3da011ae"
      },
      "execution_count": 13,
      "outputs": [
        {
          "output_type": "stream",
          "name": "stdout",
          "text": [
            "hello world\n",
            "im Felipe\n",
            "and i like bikes\n"
          ]
        }
      ]
    },
    {
      "cell_type": "markdown",
      "source": [
        "Para saber el tipo de variable funcion TYPE"
      ],
      "metadata": {
        "id": "KKAW2x41md2I"
      }
    },
    {
      "cell_type": "code",
      "source": [
        "x= 8\n",
        "print(type(x))"
      ],
      "metadata": {
        "colab": {
          "base_uri": "https://localhost:8080/"
        },
        "id": "zDH1EN9LmcfO",
        "outputId": "84e4185b-9073-4bb5-dc34-04488d6b2794"
      },
      "execution_count": 14,
      "outputs": [
        {
          "output_type": "stream",
          "name": "stdout",
          "text": [
            "<class 'int'>\n"
          ]
        }
      ]
    },
    {
      "cell_type": "markdown",
      "source": [
        "LOS METODOS DE ACCEDEN CON EL \".\" despues de escrita la variable, se puede usar la funcion \"help\" para saber que hace cada metodo"
      ],
      "metadata": {
        "id": "KEzSkpQ3m2om"
      }
    },
    {
      "cell_type": "code",
      "source": [
        "Song= \"\"\"no role models \n",
        "and im here right now\n",
        "no role models to speak up\"\"\"\n",
        "print(Song.upper())\n",
        "help(Song.encode)"
      ],
      "metadata": {
        "colab": {
          "base_uri": "https://localhost:8080/"
        },
        "id": "8DuLDBzBnCHS",
        "outputId": "faa4ef10-cb20-412c-9f0a-3b20a89c3042"
      },
      "execution_count": 17,
      "outputs": [
        {
          "output_type": "stream",
          "name": "stdout",
          "text": [
            "NO ROLE MODELS \n",
            "AND IM HERE RIGHT NOW\n",
            "NO ROLE MODELS TO SPEAK UP\n",
            "Help on built-in function encode:\n",
            "\n",
            "encode(encoding='utf-8', errors='strict') method of builtins.str instance\n",
            "    Encode the string using the codec registered for encoding.\n",
            "    \n",
            "    encoding\n",
            "      The encoding in which to encode the string.\n",
            "    errors\n",
            "      The error handling scheme to use for encoding errors.\n",
            "      The default is 'strict' meaning that encoding errors raise a\n",
            "      UnicodeEncodeError.  Other possible values are 'ignore', 'replace' and\n",
            "      'xmlcharrefreplace' as well as any other name registered with\n",
            "      codecs.register_error that can handle UnicodeEncodeErrors.\n",
            "\n"
          ]
        }
      ]
    }
  ]
}